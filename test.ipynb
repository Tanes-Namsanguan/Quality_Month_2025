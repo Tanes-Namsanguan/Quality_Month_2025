{
 "cells": [
  {
   "cell_type": "code",
   "execution_count": 2,
   "id": "3b4f87aa",
   "metadata": {},
   "outputs": [
    {
     "name": "stdout",
     "output_type": "stream",
     "text": [
      "Tables: [('code',)]\n",
      "\n",
      "Data from 'code':\n",
      "(1, '42ce63fa30cd40ba9c6fcb95b0ccb60e', None, '783754', '2025-10-17 07:20:10.813125')\n"
     ]
    }
   ],
   "source": [
    "import sqlite3\n",
    "\n",
    "# เปิดฐานข้อมูล\n",
    "conn = sqlite3.connect(\"instance/app.db\")\n",
    "cursor = conn.cursor()\n",
    "\n",
    "# ดูชื่อทุกตาราง\n",
    "cursor.execute(\"SELECT name FROM sqlite_master WHERE type='table';\")\n",
    "tables = cursor.fetchall()\n",
    "print(\"Tables:\", tables)\n",
    "\n",
    "# ถ้ามีตาราง 'code' ให้ดูข้อมูลในนั้น\n",
    "print(\"\\nData from 'code':\")\n",
    "cursor.execute(\"SELECT * FROM code;\")\n",
    "for row in cursor.fetchall():\n",
    "    print(row)\n",
    "\n",
    "conn.close()\n"
   ]
  }
 ],
 "metadata": {
  "kernelspec": {
   "display_name": "Python 3",
   "language": "python",
   "name": "python3"
  },
  "language_info": {
   "codemirror_mode": {
    "name": "ipython",
    "version": 3
   },
   "file_extension": ".py",
   "mimetype": "text/x-python",
   "name": "python",
   "nbconvert_exporter": "python",
   "pygments_lexer": "ipython3",
   "version": "3.10.11"
  }
 },
 "nbformat": 4,
 "nbformat_minor": 5
}
